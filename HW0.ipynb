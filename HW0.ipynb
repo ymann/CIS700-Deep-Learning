{
  "nbformat": 4,
  "nbformat_minor": 0,
  "metadata": {
    "colab": {
      "name": "HW0.ipynb",
      "version": "0.3.2",
      "provenance": [],
      "collapsed_sections": [],
      "toc_visible": true,
      "include_colab_link": true
    },
    "kernelspec": {
      "name": "python3",
      "display_name": "Python 3"
    },
    "accelerator": "GPU"
  },
  "cells": [
    {
      "cell_type": "markdown",
      "metadata": {
        "id": "view-in-github",
        "colab_type": "text"
      },
      "source": [
        "<a href=\"https://colab.research.google.com/github/ymann/CIS700-Deep-Learning/blob/master/HW0.ipynb\" target=\"_parent\"><img src=\"https://colab.research.google.com/assets/colab-badge.svg\" alt=\"Open In Colab\"/></a>"
      ]
    },
    {
      "metadata": {
        "id": "1pNTr-zzKyNM",
        "colab_type": "text"
      },
      "cell_type": "markdown",
      "source": [
        "# Introduction and Getting Started (5 pts)"
      ]
    },
    {
      "metadata": {
        "id": "h9-qEdw6PAEM",
        "colab_type": "text"
      },
      "cell_type": "markdown",
      "source": [
        "## Course Policies (0 pts)\n",
        "\n"
      ]
    },
    {
      "metadata": {
        "id": "O4ZkJci-u2KY",
        "colab_type": "text"
      },
      "cell_type": "markdown",
      "source": [
        "**Collaboration Policy**\n",
        "\n",
        "All of the homework assignments besides the final project are to be done **individually**. You may collaborate with others on a high level, however, all LaTeX and code must be done individually. Students who have been shown to be violating this policy will automatically receive a 0 for the assignment and be referred to the Office of Student Conduct. By submitting an assignment you agree that the work produced is your work and your work **only**.\n",
        "\n",
        "**Late Policy**\n",
        "\n",
        "This class will penalize late submission by 20% for each day past the submission deadline. There are no late days in this class.\n"
      ]
    },
    {
      "metadata": {
        "id": "SpKQ69qYvpR8",
        "colab_type": "text"
      },
      "cell_type": "markdown",
      "source": [
        "## Python Resources (0 pts)"
      ]
    },
    {
      "metadata": {
        "id": "OLiEVEN0NBhy",
        "colab_type": "text"
      },
      "cell_type": "markdown",
      "source": [
        "Welcome to CIS 700-004: Deep Learning for Data Science! \n",
        "\n",
        "HW0 will serve as an introduction / setting up for many of the technologies we'll be using in the course. Additionally, there is a written component where you will review key concepts used in deep learning."
      ]
    },
    {
      "metadata": {
        "id": "KrOfSG4thyV5",
        "colab_type": "text"
      },
      "cell_type": "markdown",
      "source": [
        "## Setting up Google Colab (0 pts)\n",
        "\n",
        "**Opening on Google Colab** (for those viewing this notebook remotely)\n",
        "\n",
        "Every homework assignment will be released on canvas as a jupyter notebook file. Although you can develop python notebooks locally, we will be expecting you to develop on Google Colab, which you can access on (https://colab.research.google.com). \n",
        "\n",
        "Once you have logged in, you'll be taken to a \"Hello, Colaboratory page\". To upload this notebook and view, simply click file->upload notebook and choose this notebook file.\n",
        "\n",
        "** Getting familiar with Google Colab / Jupyter **\n",
        "\n",
        "We highly recommend that you read the first section \"[Overview of Colaboratory](https://colab.research.google.com/notebooks/basic_features_overview.ipynb)\" if you aren't already familiar with Google Colab / Jupyter notebooks to get a synopsis of these technologies. For further reading on Jupyter notebooks, view the following resources:\n",
        "\n",
        "*   https://www.dataquest.io/blog/jupyter-notebook-tutorial/\n",
        "*   https://medium.com/codingthesmartway-com-blog/getting-started-with-jupyter-notebook-for-python-4e7082bd5d46 (skip the beginning on setting up Jupyter)\n",
        "\n",
        "To upload this notebook, simply click file->upload notebook and choose this python notebook file.\n",
        "\n",
        "**Version Control**\n",
        "\n",
        "Google Colab automatically provides version control (see file->revision history), however, this revision history tends to provide no more than a few hours of version control automatically. If you are using Google Colab solely for version control, we recommend that you hit file->save and pin revision (i.e. whenever you would normally commit in Github) every so often so that the version doesn't get deleted from the history.\n",
        "\n",
        "Alternatively, Google Colab provides Github support, so for those that are more familiar with this version control system we recommend following [this](https://colab.research.google.com/github/googlecolab/colabtools/blob/master/notebooks/colab-github-demo.ipynb#scrollTo=Rmai0dD30XzL) tutorial.\n",
        "\n",
        "\n",
        "\n"
      ]
    },
    {
      "metadata": {
        "id": "vT8p_WKPoD95",
        "colab_type": "text"
      },
      "cell_type": "markdown",
      "source": [
        "## Setting up the Assignment (5 pts)\n",
        "\n",
        "For all future homeworks, the Jupyter notebook file we provide will be very sparse, usually only with one line (as seen below) to clone the cis 700 repository which will follow this general structure (however, this may be subject to change):\n",
        "\n",
        "    CIS700-004/ \n",
        "        hw0/ \n",
        "           helper.py (helper methods if necessary)\n",
        "           dataset (for some assignments, not hw0)\n",
        "           writeup.pdf\n",
        "           template.tex (LaTeX template for writeup)\n",
        "        hw1/\n",
        "        ...\n",
        "\n",
        "\n"
      ]
    },
    {
      "metadata": {
        "id": "VMLqKC6RKsfR",
        "colab_type": "code",
        "outputId": "97d154b8-a411-4521-b2bf-0217a88a419c",
        "colab": {
          "base_uri": "https://localhost:8080/",
          "height": 119
        }
      },
      "cell_type": "code",
      "source": [
        "!git clone https://github.com/cis700/hw0-updated.git"
      ],
      "execution_count": 0,
      "outputs": [
        {
          "output_type": "stream",
          "text": [
            "Cloning into 'hw0-updated'...\n",
            "remote: Enumerating objects: 6, done.\u001b[K\n",
            "remote: Counting objects: 100% (6/6), done.\u001b[K\n",
            "remote: Compressing objects: 100% (5/5), done.\u001b[K\n",
            "remote: Total 6 (delta 0), reused 6 (delta 0), pack-reused 0\u001b[K\n",
            "Unpacking objects: 100% (6/6), done.\n"
          ],
          "name": "stdout"
        }
      ]
    },
    {
      "metadata": {
        "id": "5_H71KUgrmsK",
        "colab_type": "text"
      },
      "cell_type": "markdown",
      "source": [
        "Click \"files\" and \"refresh\", and you should see on the left the directory structure we specified above (without the dataset). As stated earlier, for future homeworks the writeup will contain most of the instructions for the assignment (rather than this notebook), but for now it contains a few theory problems.\n",
        "\n",
        "\n",
        "**Installing Dependencies**\n",
        "Besides cloning the repo, we will also include in the notebook a code snippet to download many of the packages required for the homework assignment. However, feel free to install other packages (for instance, using [pip](https://pip.pypa.io/en/stable/), which comes pre-installed in colab). Run the code snippet below to install matplotlib (don't worry if it says it's already satisfied)."
      ]
    },
    {
      "metadata": {
        "id": "4QQNlrwT10sq",
        "colab_type": "code",
        "outputId": "9dddc249-a5da-411b-e398-d22cf4ed8833",
        "colab": {
          "base_uri": "https://localhost:8080/",
          "height": 173
        }
      },
      "cell_type": "code",
      "source": [
        "!pip install matplotlib"
      ],
      "execution_count": 0,
      "outputs": [
        {
          "output_type": "stream",
          "text": [
            "Requirement already satisfied: matplotlib in /usr/local/lib/python3.6/dist-packages (3.0.2)\n",
            "Requirement already satisfied: cycler>=0.10 in /usr/local/lib/python3.6/dist-packages (from matplotlib) (0.10.0)\n",
            "Requirement already satisfied: pyparsing!=2.0.4,!=2.1.2,!=2.1.6,>=2.0.1 in /usr/local/lib/python3.6/dist-packages (from matplotlib) (2.3.1)\n",
            "Requirement already satisfied: numpy>=1.10.0 in /usr/local/lib/python3.6/dist-packages (from matplotlib) (1.14.6)\n",
            "Requirement already satisfied: kiwisolver>=1.0.1 in /usr/local/lib/python3.6/dist-packages (from matplotlib) (1.0.1)\n",
            "Requirement already satisfied: python-dateutil>=2.1 in /usr/local/lib/python3.6/dist-packages (from matplotlib) (2.5.3)\n",
            "Requirement already satisfied: six in /usr/local/lib/python3.6/dist-packages (from cycler>=0.10->matplotlib) (1.11.0)\n",
            "Requirement already satisfied: setuptools in /usr/local/lib/python3.6/dist-packages (from kiwisolver>=1.0.1->matplotlib) (40.6.3)\n"
          ],
          "name": "stdout"
        }
      ]
    },
    {
      "metadata": {
        "id": "PI0teJdX5J4U",
        "colab_type": "text"
      },
      "cell_type": "markdown",
      "source": [
        "For those that have not used Python before, we strongly recommend reading / completing a few tutorials on Python to get yourselves familiarized with the language. Here is a list of a few such resources:\n",
        "\n",
        "\n",
        "\n",
        "*   https://www.w3schools.com/python/python_intro.asp\n",
        "*   https://www.learnpython.org/\n",
        "*   https://www.udemy.com/pythonforbeginnersintro/\n",
        "\n",
        "\n"
      ]
    },
    {
      "metadata": {
        "id": "OWHha4uv2W9R",
        "colab_type": "text"
      },
      "cell_type": "markdown",
      "source": [
        "**Setting up the GPU **\n",
        "\n",
        "First, go to Runtime->Change Runtime Type, and change Hardware Accelerator to **GPU**. Doing so changes the runtime (think of it as connecting to a completely different instance now). Therefore, you have to re-install all previously installed packages, and all previous workspace variables have been deleted. Since at this point we haven't installed any new packages or created any new workspace variables, we haven't lost anything.\n",
        "\n",
        "Next, run the code snippet below."
      ]
    },
    {
      "metadata": {
        "id": "u334PUMz2q4y",
        "colab_type": "code",
        "outputId": "1ebcee18-83da-4c18-ea7e-09a92a12e65d",
        "colab": {
          "base_uri": "https://localhost:8080/",
          "height": 1102
        }
      },
      "cell_type": "code",
      "source": [
        "# http://pytorch.org/\n",
        "from os.path import exists\n",
        "from wheel.pep425tags import get_abbr_impl, get_impl_ver, get_abi_tag\n",
        "platform = '{}{}-{}'.format(get_abbr_impl(), get_impl_ver(), get_abi_tag())\n",
        "cuda_output = !ldconfig -p|grep cudart.so|sed -e 's/.*\\.\\([0-9]*\\)\\.\\([0-9]*\\)$/cu\\1\\2/' \n",
        "accelerator = cuda_output[0] if exists('/dev/nvidia0') else 'cpu'\n",
        "!pip install -q http://download.pytorch.org/whl/{accelerator}/torch-0.4.1-{platform}-linux_x86_64.whl torchvision\n",
        "import torch\n",
        "\n",
        "# http://pytorch.org/ \n",
        "from os.path import exists \n",
        "from wheel.pep425tags import get_abbr_impl, get_impl_ver, get_abi_tag \n",
        "platform = '{}{}-{}'.format(get_abbr_impl(), get_impl_ver(), get_abi_tag()) \n",
        "cuda_output = !ldconfig -p|grep cudart.so|sed -e 's/.*\\.\\([0-9]*\\)\\.\\([0-9]*\\)$/cu\\1\\2/' \n",
        "accelerator = cuda_output[0] if exists('/dev/nvidia0') else 'cpu'  \n",
        "device = torch.device(\"cuda:0\" if torch.cuda.is_available() else \"cpu\") \n",
        "print(device)"
      ],
      "execution_count": 0,
      "outputs": [
        {
          "output_type": "stream",
          "text": [
            "tcmalloc: large alloc 1073750016 bytes == 0x58ffe000 @  0x7f6f3c0252a4 0x591a07 0x5b5d56 0x502e9a 0x506859 0x502209 0x502f3d 0x506859 0x504c28 0x502540 0x502f3d 0x506859 0x504c28 0x502540 0x502f3d 0x506859 0x504c28 0x502540 0x502f3d 0x507641 0x502209 0x502f3d 0x506859 0x504c28 0x502540 0x502f3d 0x507641 0x504c28 0x502540 0x502f3d 0x507641\n",
            "\u001b[31mfastai 1.0.41 has requirement torch>=1.0.0, but you'll have torch 0.4.1 which is incompatible.\u001b[0m\n",
            "\u001b[31mOperation cancelled by user\u001b[0m\n"
          ],
          "name": "stdout"
        },
        {
          "output_type": "error",
          "ename": "KeyboardInterrupt",
          "evalue": "ignored",
          "traceback": [
            "\u001b[0;31m---------------------------------------------------------------------------\u001b[0m",
            "\u001b[0;31mKeyboardInterrupt\u001b[0m                         Traceback (most recent call last)",
            "\u001b[0;32m<ipython-input-1-ca64bc14e00a>\u001b[0m in \u001b[0;36m<module>\u001b[0;34m()\u001b[0m\n\u001b[1;32m      4\u001b[0m \u001b[0mcuda_output\u001b[0m \u001b[0;34m=\u001b[0m \u001b[0mget_ipython\u001b[0m\u001b[0;34m(\u001b[0m\u001b[0;34m)\u001b[0m\u001b[0;34m.\u001b[0m\u001b[0mgetoutput\u001b[0m\u001b[0;34m(\u001b[0m\u001b[0;34m\"ldconfig -p|grep cudart.so|sed -e 's/.*\\\\.\\\\([0-9]*\\\\)\\\\.\\\\([0-9]*\\\\)$/cu\\\\1\\\\2/' \"\u001b[0m\u001b[0;34m)\u001b[0m\u001b[0;34m\u001b[0m\u001b[0;34m\u001b[0m\u001b[0m\n\u001b[1;32m      5\u001b[0m \u001b[0maccelerator\u001b[0m \u001b[0;34m=\u001b[0m \u001b[0mcuda_output\u001b[0m\u001b[0;34m[\u001b[0m\u001b[0;36m0\u001b[0m\u001b[0;34m]\u001b[0m \u001b[0;32mif\u001b[0m \u001b[0mexists\u001b[0m\u001b[0;34m(\u001b[0m\u001b[0;34m'/dev/nvidia0'\u001b[0m\u001b[0;34m)\u001b[0m \u001b[0;32melse\u001b[0m \u001b[0;34m'cpu'\u001b[0m\u001b[0;34m\u001b[0m\u001b[0;34m\u001b[0m\u001b[0m\n\u001b[0;32m----> 6\u001b[0;31m \u001b[0mget_ipython\u001b[0m\u001b[0;34m(\u001b[0m\u001b[0;34m)\u001b[0m\u001b[0;34m.\u001b[0m\u001b[0msystem\u001b[0m\u001b[0;34m(\u001b[0m\u001b[0;34m'pip install -q http://download.pytorch.org/whl/{accelerator}/torch-0.4.1-{platform}-linux_x86_64.whl torchvision'\u001b[0m\u001b[0;34m)\u001b[0m\u001b[0;34m\u001b[0m\u001b[0;34m\u001b[0m\u001b[0m\n\u001b[0m\u001b[1;32m      7\u001b[0m \u001b[0;32mimport\u001b[0m \u001b[0mtorch\u001b[0m\u001b[0;34m\u001b[0m\u001b[0;34m\u001b[0m\u001b[0m\n\u001b[1;32m      8\u001b[0m \u001b[0;34m\u001b[0m\u001b[0m\n",
            "\u001b[0;32m/usr/local/lib/python3.6/dist-packages/google/colab/_shell.py\u001b[0m in \u001b[0;36msystem\u001b[0;34m(self, *args, **kwargs)\u001b[0m\n\u001b[1;32m     65\u001b[0m       \u001b[0mkwargs\u001b[0m\u001b[0;34m.\u001b[0m\u001b[0mupdate\u001b[0m\u001b[0;34m(\u001b[0m\u001b[0;34m{\u001b[0m\u001b[0;34m'also_return_output'\u001b[0m\u001b[0;34m:\u001b[0m \u001b[0;32mTrue\u001b[0m\u001b[0;34m}\u001b[0m\u001b[0;34m)\u001b[0m\u001b[0;34m\u001b[0m\u001b[0;34m\u001b[0m\u001b[0m\n\u001b[1;32m     66\u001b[0m \u001b[0;34m\u001b[0m\u001b[0m\n\u001b[0;32m---> 67\u001b[0;31m     \u001b[0moutput\u001b[0m \u001b[0;34m=\u001b[0m \u001b[0m_system_commands\u001b[0m\u001b[0;34m.\u001b[0m\u001b[0m_system_compat\u001b[0m\u001b[0;34m(\u001b[0m\u001b[0mself\u001b[0m\u001b[0;34m,\u001b[0m \u001b[0;34m*\u001b[0m\u001b[0margs\u001b[0m\u001b[0;34m,\u001b[0m \u001b[0;34m**\u001b[0m\u001b[0mkwargs\u001b[0m\u001b[0;34m)\u001b[0m  \u001b[0;31m# pylint:disable=protected-access\u001b[0m\u001b[0;34m\u001b[0m\u001b[0;34m\u001b[0m\u001b[0m\n\u001b[0m\u001b[1;32m     68\u001b[0m \u001b[0;34m\u001b[0m\u001b[0m\n\u001b[1;32m     69\u001b[0m     \u001b[0;32mif\u001b[0m \u001b[0mpip_warn\u001b[0m\u001b[0;34m:\u001b[0m\u001b[0;34m\u001b[0m\u001b[0;34m\u001b[0m\u001b[0m\n",
            "\u001b[0;32m/usr/local/lib/python3.6/dist-packages/google/colab/_system_commands.py\u001b[0m in \u001b[0;36m_system_compat\u001b[0;34m(shell, cmd, also_return_output)\u001b[0m\n\u001b[1;32m    436\u001b[0m   \u001b[0;31m# stack.\u001b[0m\u001b[0;34m\u001b[0m\u001b[0;34m\u001b[0m\u001b[0;34m\u001b[0m\u001b[0m\n\u001b[1;32m    437\u001b[0m   result = _run_command(\n\u001b[0;32m--> 438\u001b[0;31m       shell.var_expand(cmd, depth=2), clear_streamed_output=False)\n\u001b[0m\u001b[1;32m    439\u001b[0m   \u001b[0mshell\u001b[0m\u001b[0;34m.\u001b[0m\u001b[0muser_ns\u001b[0m\u001b[0;34m[\u001b[0m\u001b[0;34m'_exit_code'\u001b[0m\u001b[0;34m]\u001b[0m \u001b[0;34m=\u001b[0m \u001b[0mresult\u001b[0m\u001b[0;34m.\u001b[0m\u001b[0mreturncode\u001b[0m\u001b[0;34m\u001b[0m\u001b[0;34m\u001b[0m\u001b[0m\n\u001b[1;32m    440\u001b[0m   \u001b[0;32mif\u001b[0m \u001b[0;34m-\u001b[0m\u001b[0mresult\u001b[0m\u001b[0;34m.\u001b[0m\u001b[0mreturncode\u001b[0m \u001b[0;32min\u001b[0m \u001b[0m_INTERRUPTED_SIGNALS\u001b[0m\u001b[0;34m:\u001b[0m\u001b[0;34m\u001b[0m\u001b[0;34m\u001b[0m\u001b[0m\n",
            "\u001b[0;32m/usr/local/lib/python3.6/dist-packages/google/colab/_system_commands.py\u001b[0m in \u001b[0;36m_run_command\u001b[0;34m(cmd, clear_streamed_output)\u001b[0m\n\u001b[1;32m    193\u001b[0m       \u001b[0mos\u001b[0m\u001b[0;34m.\u001b[0m\u001b[0mclose\u001b[0m\u001b[0;34m(\u001b[0m\u001b[0mchild_pty\u001b[0m\u001b[0;34m)\u001b[0m\u001b[0;34m\u001b[0m\u001b[0;34m\u001b[0m\u001b[0m\n\u001b[1;32m    194\u001b[0m \u001b[0;34m\u001b[0m\u001b[0m\n\u001b[0;32m--> 195\u001b[0;31m       \u001b[0;32mreturn\u001b[0m \u001b[0m_monitor_process\u001b[0m\u001b[0;34m(\u001b[0m\u001b[0mparent_pty\u001b[0m\u001b[0;34m,\u001b[0m \u001b[0mepoll\u001b[0m\u001b[0;34m,\u001b[0m \u001b[0mp\u001b[0m\u001b[0;34m,\u001b[0m \u001b[0mcmd\u001b[0m\u001b[0;34m,\u001b[0m \u001b[0mupdate_stdin_widget\u001b[0m\u001b[0;34m)\u001b[0m\u001b[0;34m\u001b[0m\u001b[0;34m\u001b[0m\u001b[0m\n\u001b[0m\u001b[1;32m    196\u001b[0m   \u001b[0;32mfinally\u001b[0m\u001b[0;34m:\u001b[0m\u001b[0;34m\u001b[0m\u001b[0;34m\u001b[0m\u001b[0m\n\u001b[1;32m    197\u001b[0m     \u001b[0mepoll\u001b[0m\u001b[0;34m.\u001b[0m\u001b[0mclose\u001b[0m\u001b[0;34m(\u001b[0m\u001b[0;34m)\u001b[0m\u001b[0;34m\u001b[0m\u001b[0;34m\u001b[0m\u001b[0m\n",
            "\u001b[0;32m/usr/lib/python3.6/contextlib.py\u001b[0m in \u001b[0;36m__exit__\u001b[0;34m(self, type, value, traceback)\u001b[0m\n\u001b[1;32m     86\u001b[0m         \u001b[0;32mif\u001b[0m \u001b[0mtype\u001b[0m \u001b[0;32mis\u001b[0m \u001b[0;32mNone\u001b[0m\u001b[0;34m:\u001b[0m\u001b[0;34m\u001b[0m\u001b[0;34m\u001b[0m\u001b[0m\n\u001b[1;32m     87\u001b[0m             \u001b[0;32mtry\u001b[0m\u001b[0;34m:\u001b[0m\u001b[0;34m\u001b[0m\u001b[0;34m\u001b[0m\u001b[0m\n\u001b[0;32m---> 88\u001b[0;31m                 \u001b[0mnext\u001b[0m\u001b[0;34m(\u001b[0m\u001b[0mself\u001b[0m\u001b[0;34m.\u001b[0m\u001b[0mgen\u001b[0m\u001b[0;34m)\u001b[0m\u001b[0;34m\u001b[0m\u001b[0;34m\u001b[0m\u001b[0m\n\u001b[0m\u001b[1;32m     89\u001b[0m             \u001b[0;32mexcept\u001b[0m \u001b[0mStopIteration\u001b[0m\u001b[0;34m:\u001b[0m\u001b[0;34m\u001b[0m\u001b[0;34m\u001b[0m\u001b[0m\n\u001b[1;32m     90\u001b[0m                 \u001b[0;32mreturn\u001b[0m \u001b[0;32mFalse\u001b[0m\u001b[0;34m\u001b[0m\u001b[0;34m\u001b[0m\u001b[0m\n",
            "\u001b[0;32m/usr/local/lib/python3.6/dist-packages/google/colab/_system_commands.py\u001b[0m in \u001b[0;36m_display_stdin_widget\u001b[0;34m(delay_millis)\u001b[0m\n\u001b[1;32m    353\u001b[0m \u001b[0;34m\u001b[0m\u001b[0m\n\u001b[1;32m    354\u001b[0m   \u001b[0mhide_args\u001b[0m \u001b[0;34m=\u001b[0m \u001b[0;34m[\u001b[0m\u001b[0;34m'cell_remove_stdin'\u001b[0m\u001b[0;34m,\u001b[0m \u001b[0;34m{\u001b[0m\u001b[0;34m}\u001b[0m\u001b[0;34m]\u001b[0m\u001b[0;34m\u001b[0m\u001b[0;34m\u001b[0m\u001b[0m\n\u001b[0;32m--> 355\u001b[0;31m   \u001b[0m_message\u001b[0m\u001b[0;34m.\u001b[0m\u001b[0mblocking_request\u001b[0m\u001b[0;34m(\u001b[0m\u001b[0;34m*\u001b[0m\u001b[0mhide_args\u001b[0m\u001b[0;34m,\u001b[0m \u001b[0mparent\u001b[0m\u001b[0;34m=\u001b[0m\u001b[0mshell\u001b[0m\u001b[0;34m.\u001b[0m\u001b[0mparent_header\u001b[0m\u001b[0;34m)\u001b[0m\u001b[0;34m\u001b[0m\u001b[0;34m\u001b[0m\u001b[0m\n\u001b[0m\u001b[1;32m    356\u001b[0m \u001b[0;34m\u001b[0m\u001b[0m\n\u001b[1;32m    357\u001b[0m \u001b[0;34m\u001b[0m\u001b[0m\n",
            "\u001b[0;32m/usr/local/lib/python3.6/dist-packages/google/colab/_message.py\u001b[0m in \u001b[0;36mblocking_request\u001b[0;34m(request_type, request, timeout_sec, parent)\u001b[0m\n\u001b[1;32m    169\u001b[0m   \u001b[0;31m# unique.\u001b[0m\u001b[0;34m\u001b[0m\u001b[0;34m\u001b[0m\u001b[0;34m\u001b[0m\u001b[0m\n\u001b[1;32m    170\u001b[0m   \u001b[0mrequest_id\u001b[0m \u001b[0;34m=\u001b[0m \u001b[0msend_request\u001b[0m\u001b[0;34m(\u001b[0m\u001b[0mrequest_type\u001b[0m\u001b[0;34m,\u001b[0m \u001b[0mrequest\u001b[0m\u001b[0;34m,\u001b[0m \u001b[0mparent\u001b[0m\u001b[0;34m=\u001b[0m\u001b[0mparent\u001b[0m\u001b[0;34m)\u001b[0m\u001b[0;34m\u001b[0m\u001b[0;34m\u001b[0m\u001b[0m\n\u001b[0;32m--> 171\u001b[0;31m   \u001b[0;32mreturn\u001b[0m \u001b[0mread_reply_from_input\u001b[0m\u001b[0;34m(\u001b[0m\u001b[0mrequest_id\u001b[0m\u001b[0;34m,\u001b[0m \u001b[0mtimeout_sec\u001b[0m\u001b[0;34m)\u001b[0m\u001b[0;34m\u001b[0m\u001b[0;34m\u001b[0m\u001b[0m\n\u001b[0m",
            "\u001b[0;32m/usr/local/lib/python3.6/dist-packages/google/colab/_message.py\u001b[0m in \u001b[0;36mread_reply_from_input\u001b[0;34m(message_id, timeout_sec)\u001b[0m\n\u001b[1;32m     99\u001b[0m     \u001b[0mreply\u001b[0m \u001b[0;34m=\u001b[0m \u001b[0m_read_next_input_message\u001b[0m\u001b[0;34m(\u001b[0m\u001b[0;34m)\u001b[0m\u001b[0;34m\u001b[0m\u001b[0;34m\u001b[0m\u001b[0m\n\u001b[1;32m    100\u001b[0m     \u001b[0;32mif\u001b[0m \u001b[0mreply\u001b[0m \u001b[0;34m==\u001b[0m \u001b[0m_NOT_READY\u001b[0m \u001b[0;32mor\u001b[0m \u001b[0;32mnot\u001b[0m \u001b[0misinstance\u001b[0m\u001b[0;34m(\u001b[0m\u001b[0mreply\u001b[0m\u001b[0;34m,\u001b[0m \u001b[0mdict\u001b[0m\u001b[0;34m)\u001b[0m\u001b[0;34m:\u001b[0m\u001b[0;34m\u001b[0m\u001b[0;34m\u001b[0m\u001b[0m\n\u001b[0;32m--> 101\u001b[0;31m       \u001b[0mtime\u001b[0m\u001b[0;34m.\u001b[0m\u001b[0msleep\u001b[0m\u001b[0;34m(\u001b[0m\u001b[0;36m0.025\u001b[0m\u001b[0;34m)\u001b[0m\u001b[0;34m\u001b[0m\u001b[0;34m\u001b[0m\u001b[0m\n\u001b[0m\u001b[1;32m    102\u001b[0m       \u001b[0;32mcontinue\u001b[0m\u001b[0;34m\u001b[0m\u001b[0;34m\u001b[0m\u001b[0m\n\u001b[1;32m    103\u001b[0m     if (reply.get('type') == 'colab_reply' and\n",
            "\u001b[0;31mKeyboardInterrupt\u001b[0m: "
          ]
        }
      ]
    },
    {
      "metadata": {
        "id": "YtQz-0nk3Xiz",
        "colab_type": "text"
      },
      "cell_type": "markdown",
      "source": [
        "The above should print \"cuda:0\", otherwise revisit the steps above or come to office hours to get further help."
      ]
    },
    {
      "metadata": {
        "id": "L3X7C-Ug3rru",
        "colab_type": "code",
        "colab": {}
      },
      "cell_type": "code",
      "source": [
        "import numpy as np\n",
        "import torch\n",
        "\n",
        "x = torch.FloatTensor([1,2,3])\n",
        "print(x)\n",
        "x = x.to(device)\n",
        "print(x)"
      ],
      "execution_count": 0,
      "outputs": []
    },
    {
      "metadata": {
        "id": "0j6t9cW34uVm",
        "colab_type": "text"
      },
      "cell_type": "markdown",
      "source": [
        "To send a variable to the GPU (represented by the variable device), simply follow the above. As you can see, after x is sent to the device, it is clearly denoted as a property of the tensor itself.\n",
        "\n",
        "**Using PDB to debug**\n",
        "\n",
        "Although not necessary, PDB can serve as a very powerful debugging tool. For those already familiar with GDB, PDB is a very similar such tool. Below is a faulty function, follow these steps (using PDB) to figure out what the bug is."
      ]
    },
    {
      "metadata": {
        "id": "MUqLx68-5b8v",
        "colab_type": "code",
        "outputId": "dce868fe-60ec-44a1-a1bb-9c015b79383e",
        "colab": {
          "base_uri": "https://localhost:8080/",
          "height": 589
        }
      },
      "cell_type": "code",
      "source": [
        "import pdb\n",
        "\n",
        "## Function should return a^b, e.g. pow(2,3) should return 8.\n",
        "def buggy_pow(a, b):\n",
        "  prod = 1\n",
        "  for i in range(0, b):\n",
        "    prod = prod * a\n",
        "  return prod\n",
        "\n",
        "pdb.set_trace()\n",
        "print(buggy_pow(2,3))\n",
        "  "
      ],
      "execution_count": 0,
      "outputs": [
        {
          "output_type": "stream",
          "text": [
            "--Return--\n",
            "> <ipython-input-26-cc613e3ae70f>(10)<module>()->None\n",
            "-> pdb.set_trace()\n",
            "(Pdb) buggy_pow(2,3)\n",
            "8\n",
            "--KeyboardInterrupt--\n",
            "(Pdb) exit\n"
          ],
          "name": "stdout"
        },
        {
          "output_type": "error",
          "ename": "BdbQuit",
          "evalue": "ignored",
          "traceback": [
            "\u001b[0;31m---------------------------------------------------------------------------\u001b[0m",
            "\u001b[0;31mBdbQuit\u001b[0m                                   Traceback (most recent call last)",
            "\u001b[0;32m<ipython-input-26-cc613e3ae70f>\u001b[0m in \u001b[0;36m<module>\u001b[0;34m()\u001b[0m\n\u001b[1;32m      8\u001b[0m   \u001b[0;32mreturn\u001b[0m \u001b[0mprod\u001b[0m\u001b[0;34m\u001b[0m\u001b[0;34m\u001b[0m\u001b[0m\n\u001b[1;32m      9\u001b[0m \u001b[0;34m\u001b[0m\u001b[0m\n\u001b[0;32m---> 10\u001b[0;31m \u001b[0mpdb\u001b[0m\u001b[0;34m.\u001b[0m\u001b[0mset_trace\u001b[0m\u001b[0;34m(\u001b[0m\u001b[0;34m)\u001b[0m\u001b[0;34m\u001b[0m\u001b[0;34m\u001b[0m\u001b[0m\n\u001b[0m\u001b[1;32m     11\u001b[0m \u001b[0mprint\u001b[0m\u001b[0;34m(\u001b[0m\u001b[0mbuggy_pow\u001b[0m\u001b[0;34m(\u001b[0m\u001b[0;36m2\u001b[0m\u001b[0;34m,\u001b[0m\u001b[0;36m3\u001b[0m\u001b[0;34m)\u001b[0m\u001b[0;34m)\u001b[0m\u001b[0;34m\u001b[0m\u001b[0;34m\u001b[0m\u001b[0m\n\u001b[1;32m     12\u001b[0m \u001b[0;34m\u001b[0m\u001b[0m\n",
            "\u001b[0;32m/usr/lib/python3.6/bdb.py\u001b[0m in \u001b[0;36mtrace_dispatch\u001b[0;34m(self, frame, event, arg)\u001b[0m\n\u001b[1;32m     53\u001b[0m             \u001b[0;32mreturn\u001b[0m \u001b[0mself\u001b[0m\u001b[0;34m.\u001b[0m\u001b[0mdispatch_call\u001b[0m\u001b[0;34m(\u001b[0m\u001b[0mframe\u001b[0m\u001b[0;34m,\u001b[0m \u001b[0marg\u001b[0m\u001b[0;34m)\u001b[0m\u001b[0;34m\u001b[0m\u001b[0;34m\u001b[0m\u001b[0m\n\u001b[1;32m     54\u001b[0m         \u001b[0;32mif\u001b[0m \u001b[0mevent\u001b[0m \u001b[0;34m==\u001b[0m \u001b[0;34m'return'\u001b[0m\u001b[0;34m:\u001b[0m\u001b[0;34m\u001b[0m\u001b[0;34m\u001b[0m\u001b[0m\n\u001b[0;32m---> 55\u001b[0;31m             \u001b[0;32mreturn\u001b[0m \u001b[0mself\u001b[0m\u001b[0;34m.\u001b[0m\u001b[0mdispatch_return\u001b[0m\u001b[0;34m(\u001b[0m\u001b[0mframe\u001b[0m\u001b[0;34m,\u001b[0m \u001b[0marg\u001b[0m\u001b[0;34m)\u001b[0m\u001b[0;34m\u001b[0m\u001b[0;34m\u001b[0m\u001b[0m\n\u001b[0m\u001b[1;32m     56\u001b[0m         \u001b[0;32mif\u001b[0m \u001b[0mevent\u001b[0m \u001b[0;34m==\u001b[0m \u001b[0;34m'exception'\u001b[0m\u001b[0;34m:\u001b[0m\u001b[0;34m\u001b[0m\u001b[0;34m\u001b[0m\u001b[0m\n\u001b[1;32m     57\u001b[0m             \u001b[0;32mreturn\u001b[0m \u001b[0mself\u001b[0m\u001b[0;34m.\u001b[0m\u001b[0mdispatch_exception\u001b[0m\u001b[0;34m(\u001b[0m\u001b[0mframe\u001b[0m\u001b[0;34m,\u001b[0m \u001b[0marg\u001b[0m\u001b[0;34m)\u001b[0m\u001b[0;34m\u001b[0m\u001b[0;34m\u001b[0m\u001b[0m\n",
            "\u001b[0;32m/usr/lib/python3.6/bdb.py\u001b[0m in \u001b[0;36mdispatch_return\u001b[0;34m(self, frame, arg)\u001b[0m\n\u001b[1;32m     97\u001b[0m             \u001b[0;32mfinally\u001b[0m\u001b[0;34m:\u001b[0m\u001b[0;34m\u001b[0m\u001b[0;34m\u001b[0m\u001b[0m\n\u001b[1;32m     98\u001b[0m                 \u001b[0mself\u001b[0m\u001b[0;34m.\u001b[0m\u001b[0mframe_returning\u001b[0m \u001b[0;34m=\u001b[0m \u001b[0;32mNone\u001b[0m\u001b[0;34m\u001b[0m\u001b[0;34m\u001b[0m\u001b[0m\n\u001b[0;32m---> 99\u001b[0;31m             \u001b[0;32mif\u001b[0m \u001b[0mself\u001b[0m\u001b[0;34m.\u001b[0m\u001b[0mquitting\u001b[0m\u001b[0;34m:\u001b[0m \u001b[0;32mraise\u001b[0m \u001b[0mBdbQuit\u001b[0m\u001b[0;34m\u001b[0m\u001b[0;34m\u001b[0m\u001b[0m\n\u001b[0m\u001b[1;32m    100\u001b[0m             \u001b[0;31m# The user issued a 'next' or 'until' command.\u001b[0m\u001b[0;34m\u001b[0m\u001b[0;34m\u001b[0m\u001b[0;34m\u001b[0m\u001b[0m\n\u001b[1;32m    101\u001b[0m             \u001b[0;32mif\u001b[0m \u001b[0mself\u001b[0m\u001b[0;34m.\u001b[0m\u001b[0mstopframe\u001b[0m \u001b[0;32mis\u001b[0m \u001b[0mframe\u001b[0m \u001b[0;32mand\u001b[0m \u001b[0mself\u001b[0m\u001b[0;34m.\u001b[0m\u001b[0mstoplineno\u001b[0m \u001b[0;34m!=\u001b[0m \u001b[0;34m-\u001b[0m\u001b[0;36m1\u001b[0m\u001b[0;34m:\u001b[0m\u001b[0;34m\u001b[0m\u001b[0;34m\u001b[0m\u001b[0m\n",
            "\u001b[0;31mBdbQuit\u001b[0m: "
          ]
        }
      ]
    },
    {
      "metadata": {
        "id": "Fy-G748u7Czk",
        "colab_type": "text"
      },
      "cell_type": "markdown",
      "source": [
        "To start a PDB session, simply use the function \"pdb.set_trace()\".\n",
        "\n",
        "Type the following commands (in this order) to debug the function:\n",
        "*   b 7 (sets breakpoint)\n",
        "*   c (continues until breakpoint)\n",
        "*   p prod (prints proceeding variable)\n",
        "*   c\n",
        "*   p prod\n",
        "*   c\n",
        "*   p prod\n",
        "*   exit\n",
        "\n",
        "**Q1**: Do you notice anything about the variable prod? In your writeup (using the template we provided), detail your findings as well as the fix to the above function to get credit for this section.\n",
        "\n",
        "Once you've exited the program, hover over the icon in the top left of the output (should turn into an X), and click it to clear the output."
      ]
    },
    {
      "metadata": {
        "id": "CyspZGMcnZMi",
        "colab_type": "text"
      },
      "cell_type": "markdown",
      "source": [
        "\n",
        "\n",
        "---\n",
        "\n",
        "\n",
        "# Classical Machine Learning Review (55 pts)\n",
        "This section will serve as a refresher for concepts you have learned in previous machine learning classes. In this section, you will be working with the IRIS dataset, which contains key properties about different species of irises.\n",
        "\n",
        "Using classical machine learning techniques you will classify which iris each data sample belongs to."
      ]
    },
    {
      "metadata": {
        "id": "LTGy3REOBAaO",
        "colab_type": "text"
      },
      "cell_type": "markdown",
      "source": [
        "## Installing Dependencies (0 pts)\n",
        "\n",
        "Determine what dependencies you need to use and instantiate them in this code snippet as you go. If you are hesitant about including a package, please post on Piazza."
      ]
    },
    {
      "metadata": {
        "id": "MthDm7gLpJ0v",
        "colab_type": "code",
        "colab": {}
      },
      "cell_type": "code",
      "source": [
        "from sklearn import datasets\n",
        "import numpy as np\n",
        "import torch\n",
        "import matplotlib.pyplot as plt\n",
        "import matplotlib\n",
        "from mpl_toolkits.mplot3d import Axes3D\n",
        "import matplotlib.patches as mpatches\n",
        "import pandas as pd\n",
        "from sklearn.model_selection import train_test_split\n",
        "from sklearn.neighbors import KNeighborsClassifier\n",
        "from sklearn.linear_model import LogisticRegression\n",
        "from sklearn.linear_model import LogisticRegressionCV\n",
        "from sklearn.model_selection import learning_curve\n",
        "from sklearn import tree\n",
        "from sklearn.model_selection import ShuffleSplit\n"
      ],
      "execution_count": 0,
      "outputs": []
    },
    {
      "metadata": {
        "id": "P1DumkZYoDBd",
        "colab_type": "text"
      },
      "cell_type": "markdown",
      "source": [
        "## Exploratory Data Analysis (30 pts)\n",
        "\n",
        "In this section you will explore the dataset before you actually build the models to train.\n",
        "\n",
        "**Load data**\n",
        "\n",
        "Figure out how to use sklearn to load the iris dataset (Google is encouraged)\n",
        "\n",
        "Answer the following questions in your writeup:\n",
        "\n",
        "**Q2 (3 pts):** How many different types of irises are in the dataset?\n",
        "\n",
        "**Q3 (3 pts):** What are all the features given in the dataset?"
      ]
    },
    {
      "metadata": {
        "id": "SFcaqRLXWCNh",
        "colab_type": "code",
        "colab": {}
      },
      "cell_type": "code",
      "source": [
        "iris = datasets.load_iris()"
      ],
      "execution_count": 0,
      "outputs": []
    },
    {
      "metadata": {
        "id": "JWPtBlBdWc29",
        "colab_type": "text"
      },
      "cell_type": "markdown",
      "source": [
        "**Visualizing the Data**\n",
        "\n",
        "Use Matplotlib to plot the samples with the sepal width, petal length, and petal width serving as the x,y,z dimensions respectively. \n",
        "Color each class a different color. Be sure to include a title, label each axis and include a legend.\n",
        "\n",
        "**Q4a (10 pts):** Include the plot in the writeup\n",
        "\n",
        "**Q4b (4 pts):** What observations can you make about the plot?"
      ]
    },
    {
      "metadata": {
        "id": "ZbxxOVQfsVIg",
        "colab_type": "code",
        "outputId": "566210fc-1809-415a-85af-36c6b38d3bde",
        "colab": {
          "base_uri": "https://localhost:8080/",
          "height": 480
        }
      },
      "cell_type": "code",
      "source": [
        "X = iris.data[:, 1:4]\n",
        "y = iris.target\n",
        "colors = ['red','green','blue']\n",
        "fig = plt.figure(1, figsize=(8, 6))\n",
        "ax = Axes3D(fig, )\n",
        "ax.scatter(X[:, 0], X[:, 1], X[:, 2], c=y,\n",
        "           cmap=matplotlib.colors.ListedColormap(colors), edgecolor='k', s=40)\n",
        "ax.set_title(\"Iris Dataset Analysis\")\n",
        "ax.set_xlabel(\"Sepal Width\")\n",
        "ax.w_xaxis.set_ticklabels([])\n",
        "ax.set_ylabel(\"Petal Length\")\n",
        "ax.w_yaxis.set_ticklabels([])\n",
        "ax.set_zlabel(\"Petal Width\")\n",
        "ax.w_zaxis.set_ticklabels([])\n",
        "red_patch = mpatches.Patch(color='red', label='Setosa')\n",
        "orange_patch = mpatches.Patch(color='green', label='Versicolour')\n",
        "gray_patch = mpatches.Patch(color='blue', label='Virginica')\n",
        "plt.legend(handles=[red_patch, orange_patch, gray_patch])\n"
      ],
      "execution_count": 3,
      "outputs": [
        {
          "output_type": "execute_result",
          "data": {
            "text/plain": [
              "<matplotlib.legend.Legend at 0x7fb10fa8e208>"
            ]
          },
          "metadata": {
            "tags": []
          },
          "execution_count": 3
        },
        {
          "output_type": "display_data",
          "data": {
            "image/png": "[encoded data removed]",
            "text/plain": [
              "<Figure size 576x432 with 1 Axes>"
            ]
          },
          "metadata": {
            "tags": []
          }
        }
      ]
    },
    {
      "metadata": {
        "id": "lyOZFO5BYj9X",
        "colab_type": "text"
      },
      "cell_type": "markdown",
      "source": [
        "\n",
        "**Analyzing the Data**\n",
        "\n",
        "For each type of plant in the train set, use Panda and NumPy to compute the mean of each of the features, and report what these \n",
        "means are in a table. For those not familiar with numpy and/or panda, here are a few helpful resources to get introduced:'\n",
        "\n",
        "*   https://machinelearningmastery.com/introduction-to-tensors-for-machine-learning/ \n",
        "*   https://github.com/rougier/numpy-tutorial\n",
        "\n",
        "\n",
        "**Q5a (7 pts):** Include the final table in the writeup.\n",
        "\n",
        "**Q5b (3 pts):** What observations can you make about the reported means?\n",
        "\n",
        "\n"
      ]
    },
    {
      "metadata": {
        "id": "ef-72wfWxkCq",
        "colab_type": "code",
        "outputId": "f8c20d4e-af39-4279-cdbe-d7547941ead4",
        "colab": {
          "base_uri": "https://localhost:8080/",
          "height": 173
        }
      },
      "cell_type": "code",
      "source": [
        "X = iris.data\n",
        "X.shape\n",
        "setosa = X[y==0]\n",
        "versicolour = X[y==1]\n",
        "virginica = X[y==2]\n",
        "s = [np.sum(setosa[:,0])/50, np.sum(setosa[:,1])/50, np.sum(setosa[:,2])/50, np.sum(setosa[:,3])/50]\n",
        "ve = [np.sum(versicolour[:,0])/50, np.sum(versicolour[:,1])/50, np.sum(versicolour[:,2])/50, np.sum(versicolour[:,3])/50]\n",
        "vi = [np.sum(virginica[:,0])/50, np.sum(virginica[:,1])/50, np.sum(virginica[:,2])/50, np.sum(virginica[:,3])/50]\n",
        "A = np.array((s,ve,vi),dtype=float)\n",
        "df = pd.DataFrame(A)\n",
        "df = df.transpose()\n",
        "df.columns = ['setosa','versicolour','virginica']\n",
        "df"
      ],
      "execution_count": 4,
      "outputs": [
        {
          "output_type": "execute_result",
          "data": {
            "text/html": [
              "<div>\n",
              "<style scoped>\n",
              "    .dataframe tbody tr th:only-of-type {\n",
              "        vertical-align: middle;\n",
              "    }\n",
              "\n",
              "    .dataframe tbody tr th {\n",
              "        vertical-align: top;\n",
              "    }\n",
              "\n",
              "    .dataframe thead th {\n",
              "        text-align: right;\n",
              "    }\n",
              "</style>\n",
              "<table border=\"1\" class=\"dataframe\">\n",
              "  <thead>\n",
              "    <tr style=\"text-align: right;\">\n",
              "      <th></th>\n",
              "      <th>setosa</th>\n",
              "      <th>versicolour</th>\n",
              "      <th>virginica</th>\n",
              "    </tr>\n",
              "  </thead>\n",
              "  <tbody>\n",
              "    <tr>\n",
              "      <th>0</th>\n",
              "      <td>5.006</td>\n",
              "      <td>5.936</td>\n",
              "      <td>6.588</td>\n",
              "    </tr>\n",
              "    <tr>\n",
              "      <th>1</th>\n",
              "      <td>3.428</td>\n",
              "      <td>2.770</td>\n",
              "      <td>2.974</td>\n",
              "    </tr>\n",
              "    <tr>\n",
              "      <th>2</th>\n",
              "      <td>1.462</td>\n",
              "      <td>4.260</td>\n",
              "      <td>5.552</td>\n",
              "    </tr>\n",
              "    <tr>\n",
              "      <th>3</th>\n",
              "      <td>0.246</td>\n",
              "      <td>1.326</td>\n",
              "      <td>2.026</td>\n",
              "    </tr>\n",
              "  </tbody>\n",
              "</table>\n",
              "</div>"
            ],
            "text/plain": [
              "   setosa  versicolour  virginica\n",
              "0   5.006        5.936      6.588\n",
              "1   3.428        2.770      2.974\n",
              "2   1.462        4.260      5.552\n",
              "3   0.246        1.326      2.026"
            ]
          },
          "metadata": {
            "tags": []
          },
          "execution_count": 4
        }
      ]
    },
    {
      "metadata": {
        "id": "iUB-5WvexWkx",
        "colab_type": "code",
        "colab": {}
      },
      "cell_type": "code",
      "source": [
        ""
      ],
      "execution_count": 0,
      "outputs": []
    },
    {
      "metadata": {
        "id": "JTnK1AhPZvto",
        "colab_type": "text"
      },
      "cell_type": "markdown",
      "source": [
        "**Splitting Dataset**\n",
        "\n",
        "Use sklearn to do a 60-20-20 split of the dataset into train, evaluation and test sets. \n",
        "\n"
      ]
    },
    {
      "metadata": {
        "id": "svdanXDqvdF-",
        "colab_type": "code",
        "colab": {}
      },
      "cell_type": "code",
      "source": [
        "X_train, X_test, y_train, y_test = train_test_split(X, y, test_size=0.2, random_state=1)\n",
        "X_train, X_val, y_train, y_val = train_test_split(X_train, y_train, test_size=0.25, random_state=1)"
      ],
      "execution_count": 0,
      "outputs": []
    },
    {
      "metadata": {
        "id": "-2cv6AgspAP3",
        "colab_type": "text"
      },
      "cell_type": "markdown",
      "source": [
        "## Building Models (25 pts)"
      ]
    },
    {
      "metadata": {
        "id": "dl6-ppKpp3aN",
        "colab_type": "text"
      },
      "cell_type": "markdown",
      "source": [
        "**Models - KNN**\n",
        "\n",
        "Use sklearn's built in KNN method to classify samples. \n",
        "\n",
        "**Q6a (5pts):** Report the final test / train accuracy."
      ]
    },
    {
      "metadata": {
        "id": "tRL7QVcP0TD7",
        "colab_type": "code",
        "outputId": "fd181f19-0419-4ec3-ea57-f41f10a3e5a2",
        "colab": {
          "base_uri": "https://localhost:8080/",
          "height": 34
        }
      },
      "cell_type": "code",
      "source": [
        "max_score = 0\n",
        "best_k = 0\n",
        "\n",
        "for k in range(1,30):\n",
        "  knn = KNeighborsClassifier(n_neighbors=k)\n",
        "  knn.fit(X_train,y_train)\n",
        "  score = knn.score(X_val,y_val)\n",
        "  best_k = k if score > max_score else best_k\n",
        "  max_score = score if score > max_score else max_score\n",
        "\n",
        "knn = KNeighborsClassifier(n_neighbors=best_k)\n",
        "knn.fit(X_train,y_train)\n",
        "score = knn.score(X_test,y_test)\n",
        "score\n",
        "train_score = knn.score(X_train,y_train)\n",
        "train_score"
      ],
      "execution_count": 6,
      "outputs": [
        {
          "output_type": "execute_result",
          "data": {
            "text/plain": [
              "0.9777777777777777"
            ]
          },
          "metadata": {
            "tags": []
          },
          "execution_count": 6
        }
      ]
    },
    {
      "metadata": {
        "id": "gDElCA8UoQdA",
        "colab_type": "text"
      },
      "cell_type": "markdown",
      "source": [
        "**Models - Logistic Regression**\n",
        "\n",
        "Now use logistic regression instead, also plotting accuracy over iterations.\n",
        "\n",
        "**Q6b (5 pts):** Report the final test / train accuracy"
      ]
    },
    {
      "metadata": {
        "id": "BoFhtZSw2dxV",
        "colab_type": "code",
        "outputId": "eefc09c9-ee11-4651-9323-74c8c8f12bcd",
        "colab": {
          "base_uri": "https://localhost:8080/",
          "height": 503
        }
      },
      "cell_type": "code",
      "source": [
        "best_c = 0\n",
        "max_score = 0\n",
        "\n",
        "for c in range(-4,4):\n",
        "  if c==0:\n",
        "    continue\n",
        "  model = LogisticRegression(solver='lbfgs', multi_class='auto', random_state=0, penalty=\"l2\", C=(10**(c)))\n",
        "  model.fit(X_train,y_train)\n",
        "  score = model.score(X_val,y_val)\n",
        "  best_c = c if score > max_score else best_c\n",
        "  max_score = score if score > max_score else max_score\n",
        "\n",
        "cv = ShuffleSplit(n_splits=10, test_size=.2, random_state=0)\n",
        "X = iris.data\n",
        "y = iris.target\n",
        "model = LogisticRegression(solver='lbfgs', multi_class='auto', random_state=0, penalty=\"l2\", C=(10**(best_c)))\n",
        "model.fit(X_train,y_train)\n",
        "train_sizes, train_scores, test_scores = learning_curve(model, X, y, cv=cv)\n",
        "train_scores_mean = np.mean(train_scores, axis=1)\n",
        "test_scores_mean = np.mean(test_scores, axis=1)\n",
        "# print(test_scores_mean)\n",
        "# print(train_scores_mean)\n",
        "plt.plot(train_sizes, train_scores_mean, 'o-', color=\"r\", label=\"Training score\")\n",
        "model.fit(X_train,y_train)\n",
        "print(model.score(X_test,y_test))\n",
        "print(model.score(X_train,y_train))"
      ],
      "execution_count": 8,
      "outputs": [
        {
          "output_type": "stream",
          "text": [
            "/usr/local/lib/python3.6/dist-packages/sklearn/linear_model/logistic.py:758: ConvergenceWarning: lbfgs failed to converge. Increase the number of iterations.\n",
            "  \"of iterations.\", ConvergenceWarning)\n",
            "/usr/local/lib/python3.6/dist-packages/sklearn/linear_model/logistic.py:758: ConvergenceWarning: lbfgs failed to converge. Increase the number of iterations.\n",
            "  \"of iterations.\", ConvergenceWarning)\n",
            "/usr/local/lib/python3.6/dist-packages/sklearn/linear_model/logistic.py:758: ConvergenceWarning: lbfgs failed to converge. Increase the number of iterations.\n",
            "  \"of iterations.\", ConvergenceWarning)\n"
          ],
          "name": "stderr"
        },
        {
          "output_type": "stream",
          "text": [
            "0.9333333333333333\n",
            "0.9444444444444444\n"
          ],
          "name": "stdout"
        },
        {
          "output_type": "display_data",
          "data": {
            "image/png": "[encoded data removed]",
            "text/plain": [
              "<Figure size 576x396 with 1 Axes>"
            ]
          },
          "metadata": {
            "tags": []
          }
        }
      ]
    },
    {
      "metadata": {
        "id": "BSz88OWvoRaP",
        "colab_type": "text"
      },
      "cell_type": "markdown",
      "source": [
        "**Models - Decision Tree**\n",
        "\n",
        "Finally, use decision trees and plot accuracy over iterations.\n",
        "\n",
        "**Q6c (5 pts):** Report the final test / train accuracy"
      ]
    },
    {
      "metadata": {
        "id": "NzR_Rnyc3jgU",
        "colab_type": "code",
        "outputId": "710d1da1-f18b-40b7-b242-541efe04cae5",
        "colab": {
          "base_uri": "https://localhost:8080/",
          "height": 415
        }
      },
      "cell_type": "code",
      "source": [
        "best_d = 0\n",
        "max_score = 0\n",
        "\n",
        "for d in range(1,30):\n",
        "  model = tree.DecisionTreeClassifier(max_depth=d)\n",
        "  model.fit(X_train,y_train)\n",
        "  score = model.score(X_val,y_val)\n",
        "  best_d = d if score > max_score else best_d\n",
        "  max_score = score if score > max_score else max_score\n",
        "\n",
        "X = iris.data\n",
        "y = iris.target\n",
        "model = tree.DecisionTreeClassifier(max_depth=d)\n",
        "train_sizes, train_scores, test_scores = learning_curve(model, X, y, cv=10, train_sizes=np.linspace(.1, 1.0, 5))\n",
        "\n",
        "train_scores_mean = np.mean(train_scores, axis=1)\n",
        "test_scores_mean = np.mean(test_scores, axis=1)\n",
        "print(test_scores_mean)\n",
        "print(train_scores_mean)\n",
        "plt.plot(train_sizes, train_scores_mean, 'o-', color=\"r\", label=\"Training score\")\n",
        "model.fit(X_train,y_train)\n",
        "print(model.score(X_test,y_test))\n",
        "print(model.score(X_train,y_train))"
      ],
      "execution_count": 0,
      "outputs": [
        {
          "output_type": "stream",
          "text": [
            "[0.33333333 0.33333333 0.66666667 0.92       0.96      ]\n",
            "[1. 1. 1. 1. 1.]\n",
            "0.9666666666666667\n",
            "1.0\n"
          ],
          "name": "stdout"
        },
        {
          "output_type": "display_data",
          "data": {
            "image/png": "[encoded data removed]",
            "text/plain": [
              "<Figure size 576x396 with 1 Axes>"
            ]
          },
          "metadata": {
            "tags": []
          }
        }
      ]
    },
    {
      "metadata": {
        "id": "iUfHVZnWrNmG",
        "colab_type": "text"
      },
      "cell_type": "markdown",
      "source": [
        "**Model Evaluation**\n",
        "\n",
        "**Q6d (10 pts):** Now that you've used three different classical ML techniques for classifying the samples, which one performs the best? Based on your observations of the dataset, why do you think this one performs the best and the other ones perform poorly?"
      ]
    }
  ]
}