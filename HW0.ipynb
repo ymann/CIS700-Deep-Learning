{
  "nbformat": 4,
  "nbformat_minor": 0,
  "metadata": {
    "colab": {
      "name": "HW0.ipynb",
      "version": "0.3.2",
      "provenance": [],
      "collapsed_sections": [],
      "toc_visible": true,
      "include_colab_link": true
    },
    "kernelspec": {
      "name": "python3",
      "display_name": "Python 3"
    },
    "accelerator": "GPU"
  },
  "cells": [
    {
      "cell_type": "markdown",
      "metadata": {
        "id": "view-in-github",
        "colab_type": "text"
      },
      "source": [
        "<a href=\"https://colab.research.google.com/github/ymann/CIS700-Deep-Learning/blob/master/HW0.ipynb\" target=\"_parent\"><img src=\"https://colab.research.google.com/assets/colab-badge.svg\" alt=\"Open In Colab\"/></a>"
      ]
    },
    {
      "metadata": {
        "id": "1pNTr-zzKyNM",
        "colab_type": "text"
      },
      "cell_type": "markdown",
      "source": [
        "# Introduction and Getting Started (5 pts)"
      ]
    },
    {
      "metadata": {
        "id": "h9-qEdw6PAEM",
        "colab_type": "text"
      },
      "cell_type": "markdown",
      "source": [
        "## Course Policies (0 pts)\n",
        "\n"
      ]
    },
    {
      "metadata": {
        "id": "O4ZkJci-u2KY",
        "colab_type": "text"
      },
      "cell_type": "markdown",
      "source": [
        "**Collaboration Policy**\n",
        "\n",
        "All of the homework assignments besides the final project are to be done **individually**. You may collaborate with others on a high level, however, all LaTeX and code must be done individually. Students who have been shown to be violating this policy will automatically receive a 0 for the assignment and be referred to the Office of Student Conduct. By submitting an assignment you agree that the work produced is your work and your work **only**.\n",
        "\n",
        "**Late Policy**\n",
        "\n",
        "This class will penalize late submission by 20% for each day past the submission deadline. There are no late days in this class.\n"
      ]
    },
    {
      "metadata": {
        "id": "SpKQ69qYvpR8",
        "colab_type": "text"
      },
      "cell_type": "markdown",
      "source": [
        "## Python Resources (0 pts)"
      ]
    },
    {
      "metadata": {
        "id": "OLiEVEN0NBhy",
        "colab_type": "text"
      },
      "cell_type": "markdown",
      "source": [
        "Welcome to CIS 700-004: Deep Learning for Data Science! \n",
        "\n",
        "HW0 will serve as an introduction / setting up for many of the technologies we'll be using in the course. Additionally, there is a written component where you will review key concepts used in deep learning."
      ]
    },
    {
      "metadata": {
        "id": "KrOfSG4thyV5",
        "colab_type": "text"
      },
      "cell_type": "markdown",
      "source": [
        "## Setting up Google Colab (0 pts)\n",
        "\n",
        "**Opening on Google Colab** (for those viewing this notebook remotely)\n",
        "\n",
        "Every homework assignment will be released on canvas as a jupyter notebook file. Although you can develop python notebooks locally, we will be expecting you to develop on Google Colab, which you can access on (https://colab.research.google.com). \n",
        "\n",
        "Once you have logged in, you'll be taken to a \"Hello, Colaboratory page\". To upload this notebook and view, simply click file->upload notebook and choose this notebook file.\n",
        "\n",
        "** Getting familiar with Google Colab / Jupyter **\n",
        "\n",
        "We highly recommend that you read the first section \"[Overview of Colaboratory](https://colab.research.google.com/notebooks/basic_features_overview.ipynb)\" if you aren't already familiar with Google Colab / Jupyter notebooks to get a synopsis of these technologies. For further reading on Jupyter notebooks, view the following resources:\n",
        "\n",
        "*   https://www.dataquest.io/blog/jupyter-notebook-tutorial/\n",
        "*   https://medium.com/codingthesmartway-com-blog/getting-started-with-jupyter-notebook-for-python-4e7082bd5d46 (skip the beginning on setting up Jupyter)\n",
        "\n",
        "To upload this notebook, simply click file->upload notebook and choose this python notebook file.\n",
        "\n",
        "**Version Control**\n",
        "\n",
        "Google Colab automatically provides version control (see file->revision history), however, this revision history tends to provide no more than a few hours of version control automatically. If you are using Google Colab solely for version control, we recommend that you hit file->save and pin revision (i.e. whenever you would normally commit in Github) every so often so that the version doesn't get deleted from the history.\n",
        "\n",
        "Alternatively, Google Colab provides Github support, so for those that are more familiar with this version control system we recommend following [this](https://colab.research.google.com/github/googlecolab/colabtools/blob/master/notebooks/colab-github-demo.ipynb#scrollTo=Rmai0dD30XzL) tutorial.\n",
        "\n",
        "\n",
        "\n"
      ]
    },
    {
      "metadata": {
        "id": "vT8p_WKPoD95",
        "colab_type": "text"
      },
      "cell_type": "markdown",
      "source": [
        "## Setting up the Assignment (5 pts)\n",
        "\n",
        "For all future homeworks, the Jupyter notebook file we provide will be very sparse, usually only with one line (as seen below) to clone the cis 700 repository which will follow this general structure (however, this may be subject to change):\n",
        "\n",
        "    CIS700-004/ \n",
        "        hw0/ \n",
        "           helper.py (helper methods if necessary)\n",
        "           dataset (for some assignments, not hw0)\n",
        "           writeup.pdf\n",
        "           template.tex (LaTeX template for writeup)\n",
        "        hw1/\n",
        "        ...\n",
        "\n",
        "\n"
      ]
    },
    {
      "metadata": {
        "id": "VMLqKC6RKsfR",
        "colab_type": "code",
        "colab": {}
      },
      "cell_type": "code",
      "source": [
        "!git clone https://github.com/cis700/hw0-updated.git"
      ],
      "execution_count": 0,
      "outputs": []
    },
    {
      "metadata": {
        "id": "5_H71KUgrmsK",
        "colab_type": "text"
      },
      "cell_type": "markdown",
      "source": [
        "Click \"files\" and \"refresh\", and you should see on the left the directory structure we specified above (without the dataset). As stated earlier, for future homeworks the writeup will contain most of the instructions for the assignment (rather than this notebook), but for now it contains a few theory problems.\n",
        "\n",
        "\n",
        "**Installing Dependencies**\n",
        "Besides cloning the repo, we will also include in the notebook a code snippet to download many of the packages required for the homework assignment. However, feel free to install other packages (for instance, using [pip](https://pip.pypa.io/en/stable/), which comes pre-installed in colab). Run the code snippet below to install matplotlib (don't worry if it says it's already satisfied)."
      ]
    },
    {
      "metadata": {
        "id": "4QQNlrwT10sq",
        "colab_type": "code",
        "colab": {}
      },
      "cell_type": "code",
      "source": [
        "!pip install matplotlib"
      ],
      "execution_count": 0,
      "outputs": []
    },
    {
      "metadata": {
        "id": "PI0teJdX5J4U",
        "colab_type": "text"
      },
      "cell_type": "markdown",
      "source": [
        "For those that have not used Python before, we strongly recommend reading / completing a few tutorials on Python to get yourselves familiarized with the language. Here is a list of a few such resources:\n",
        "\n",
        "\n",
        "\n",
        "*   https://www.w3schools.com/python/python_intro.asp\n",
        "*   https://www.learnpython.org/\n",
        "*   https://www.udemy.com/pythonforbeginnersintro/\n",
        "\n",
        "\n"
      ]
    },
    {
      "metadata": {
        "id": "OWHha4uv2W9R",
        "colab_type": "text"
      },
      "cell_type": "markdown",
      "source": [
        "**Setting up the GPU **\n",
        "\n",
        "First, go to Runtime->Change Runtime Type, and change Hardware Accelerator to **GPU**. Doing so changes the runtime (think of it as connecting to a completely different instance now). Therefore, you have to re-install all previously installed packages, and all previous workspace variables have been deleted. Since at this point we haven't installed any new packages or created any new workspace variables, we haven't lost anything.\n",
        "\n",
        "Next, run the code snippet below."
      ]
    },
    {
      "metadata": {
        "id": "u334PUMz2q4y",
        "colab_type": "code",
        "colab": {}
      },
      "cell_type": "code",
      "source": [
        "# http://pytorch.org/\n",
        "from os.path import exists\n",
        "from wheel.pep425tags import get_abbr_impl, get_impl_ver, get_abi_tag\n",
        "platform = '{}{}-{}'.format(get_abbr_impl(), get_impl_ver(), get_abi_tag())\n",
        "cuda_output = !ldconfig -p|grep cudart.so|sed -e 's/.*\\.\\([0-9]*\\)\\.\\([0-9]*\\)$/cu\\1\\2/'\n",
        "accelerator = cuda_output[0] if exists('/dev/nvidia0') else 'cpu'\n",
        "!pip install -q http://download.pytorch.org/whl/{accelerator}/torch-0.4.1-{platform}-linux_x86_64.whl torchvision\n",
        "import torch"
      ],
      "execution_count": 0,
      "outputs": []
    },
    {
      "metadata": {
        "id": "YtQz-0nk3Xiz",
        "colab_type": "text"
      },
      "cell_type": "markdown",
      "source": [
        "The above should print \"cuda:0\", otherwise revisit the steps above or come to office hours to get further help."
      ]
    },
    {
      "metadata": {
        "id": "L3X7C-Ug3rru",
        "colab_type": "code",
        "colab": {}
      },
      "cell_type": "code",
      "source": [
        "import numpy as np\n",
        "import torch\n",
        "\n",
        "x = torch.FloatTensor([1,2,3])\n",
        "print(x)\n",
        "x = x.to(device)\n",
        "print(x)"
      ],
      "execution_count": 0,
      "outputs": []
    },
    {
      "metadata": {
        "id": "0j6t9cW34uVm",
        "colab_type": "text"
      },
      "cell_type": "markdown",
      "source": [
        "To send a variable to the GPU (represented by the variable device), simply follow the above. As you can see, after x is sent to the device, it is clearly denoted as a property of the tensor itself.\n",
        "\n",
        "**Using PDB to debug**\n",
        "\n",
        "Although not necessary, PDB can serve as a very powerful debugging tool. For those already familiar with GDB, PDB is a very similar such tool. Below is a faulty function, follow these steps (using PDB) to figure out what the bug is."
      ]
    },
    {
      "metadata": {
        "id": "MUqLx68-5b8v",
        "colab_type": "code",
        "colab": {}
      },
      "cell_type": "code",
      "source": [
        "import pdb\n",
        "\n",
        "## Function should return a^b, e.g. pow(2,3) should return 8.\n",
        "def buggy_pow(a, b):\n",
        "  prod = 1\n",
        "  for i in range(0, b):\n",
        "    prod = a * a\n",
        "  return prod\n",
        "\n",
        "pdb.set_trace()\n",
        "print(buggy_pow(2,3))\n",
        "  "
      ],
      "execution_count": 0,
      "outputs": []
    },
    {
      "metadata": {
        "id": "Fy-G748u7Czk",
        "colab_type": "text"
      },
      "cell_type": "markdown",
      "source": [
        "To start a PDB session, simply use the function \"pdb.set_trace()\".\n",
        "\n",
        "Type the following commands (in this order) to debug the function:\n",
        "*   b 7 (sets breakpoint)\n",
        "*   c (continues until breakpoint)\n",
        "*   p prod (prints proceeding variable)\n",
        "*   c\n",
        "*   p prod\n",
        "*   c\n",
        "*   p prod\n",
        "*   exit\n",
        "\n",
        "**Q1**: Do you notice anything about the variable prod? In your writeup (using the template we provided), detail your findings as well as the fix to the above function to get credit for this section.\n",
        "\n",
        "Once you've exited the program, hover over the icon in the top left of the output (should turn into an X), and click it to clear the output."
      ]
    },
    {
      "metadata": {
        "id": "CyspZGMcnZMi",
        "colab_type": "text"
      },
      "cell_type": "markdown",
      "source": [
        "\n",
        "\n",
        "---\n",
        "\n",
        "\n",
        "# Classical Machine Learning Review (55 pts)\n",
        "This section will serve as a refresher for concepts you have learned in previous machine learning classes. In this section, you will be working with the IRIS dataset, which contains key properties about different species of irises.\n",
        "\n",
        "Using classical machine learning techniques you will classify which iris each data sample belongs to."
      ]
    },
    {
      "metadata": {
        "id": "LTGy3REOBAaO",
        "colab_type": "text"
      },
      "cell_type": "markdown",
      "source": [
        "## Installing Dependencies (0 pts)\n",
        "\n",
        "Determine what dependencies you need to use and instantiate them in this code snippet as you go. If you are hesitant about including a package, please post on Piazza."
      ]
    },
    {
      "metadata": {
        "id": "MthDm7gLpJ0v",
        "colab_type": "code",
        "colab": {}
      },
      "cell_type": "code",
      "source": [
        ""
      ],
      "execution_count": 0,
      "outputs": []
    },
    {
      "metadata": {
        "id": "P1DumkZYoDBd",
        "colab_type": "text"
      },
      "cell_type": "markdown",
      "source": [
        "## Exploratory Data Analysis (30 pts)\n",
        "\n",
        "In this section you will explore the dataset before you actually build the models to train.\n",
        "\n",
        "**Load data**\n",
        "\n",
        "Figure out how to use sklearn to load the iris dataset (Google is encouraged)\n",
        "\n",
        "Answer the following questions in your writeup:\n",
        "\n",
        "**Q2 (3 pts):** How many different types of irises are in the dataset?\n",
        "\n",
        "**Q3 (3 pts):** What are all the features given in the dataset?"
      ]
    },
    {
      "metadata": {
        "id": "SFcaqRLXWCNh",
        "colab_type": "code",
        "colab": {}
      },
      "cell_type": "code",
      "source": [
        ""
      ],
      "execution_count": 0,
      "outputs": []
    },
    {
      "metadata": {
        "id": "JWPtBlBdWc29",
        "colab_type": "text"
      },
      "cell_type": "markdown",
      "source": [
        "**Visualizing the Data**\n",
        "\n",
        "Use Matplotlib to plot the samples with the sepal width, petal length, and petal width serving as the x,y,z dimensions respectively. \n",
        "Color each class a different color. Be sure to include a title, label each axis and include a legend.\n",
        "\n",
        "**Q4a (10 pts):** Include the plot in the writeup\n",
        "\n",
        "**Q4b (4 pts):** What observations can you make about the plot?"
      ]
    },
    {
      "metadata": {
        "id": "ZbxxOVQfsVIg",
        "colab_type": "code",
        "colab": {}
      },
      "cell_type": "code",
      "source": [
        ""
      ],
      "execution_count": 0,
      "outputs": []
    },
    {
      "metadata": {
        "id": "lyOZFO5BYj9X",
        "colab_type": "text"
      },
      "cell_type": "markdown",
      "source": [
        "**Analyzing the Data**\n",
        "\n",
        "For each type of plant in the train set, use Panda and NumPy to compute the mean of each of the features, and report what these \n",
        "means are in a table. For those not familiar with numpy and/or panda, here are a few helpful resources to get introduced:'\n",
        "\n",
        "*   https://machinelearningmastery.com/introduction-to-tensors-for-machine-learning/ \n",
        "*   https://github.com/rougier/numpy-tutorial\n",
        "\n",
        "\n",
        "**Q5a (7 pts):** Include the final table in the writeup.\n",
        "\n",
        "**Q5b (3 pts):** What observations can you make about the reported means?\n",
        "\n",
        "\n"
      ]
    },
    {
      "metadata": {
        "id": "ef-72wfWxkCq",
        "colab_type": "code",
        "colab": {}
      },
      "cell_type": "code",
      "source": [
        ""
      ],
      "execution_count": 0,
      "outputs": []
    },
    {
      "metadata": {
        "id": "JTnK1AhPZvto",
        "colab_type": "text"
      },
      "cell_type": "markdown",
      "source": [
        "**Splitting Dataset**\n",
        "\n",
        "Use sklearn to do a 60-20-20 split of the dataset into train, evaluation and test sets. \n",
        "\n"
      ]
    },
    {
      "metadata": {
        "id": "svdanXDqvdF-",
        "colab_type": "code",
        "colab": {}
      },
      "cell_type": "code",
      "source": [
        ""
      ],
      "execution_count": 0,
      "outputs": []
    },
    {
      "metadata": {
        "id": "-2cv6AgspAP3",
        "colab_type": "text"
      },
      "cell_type": "markdown",
      "source": [
        "## Building Models (25 pts)"
      ]
    },
    {
      "metadata": {
        "id": "dl6-ppKpp3aN",
        "colab_type": "text"
      },
      "cell_type": "markdown",
      "source": [
        "**Models - KNN**\n",
        "\n",
        "Use sklearn's built in KNN method to classify samples. \n",
        "\n",
        "**Q6a (5pts):** Report the final test / train accuracy."
      ]
    },
    {
      "metadata": {
        "id": "tRL7QVcP0TD7",
        "colab_type": "code",
        "colab": {}
      },
      "cell_type": "code",
      "source": [
        ""
      ],
      "execution_count": 0,
      "outputs": []
    },
    {
      "metadata": {
        "id": "gDElCA8UoQdA",
        "colab_type": "text"
      },
      "cell_type": "markdown",
      "source": [
        "**Models - Logistic Regression**\n",
        "\n",
        "Now use logistic regression instead, also plotting accuracy over iterations.\n",
        "\n",
        "**Q6b (5 pts):** Report the final test / train accuracy"
      ]
    },
    {
      "metadata": {
        "id": "BoFhtZSw2dxV",
        "colab_type": "code",
        "colab": {}
      },
      "cell_type": "code",
      "source": [
        ""
      ],
      "execution_count": 0,
      "outputs": []
    },
    {
      "metadata": {
        "id": "BSz88OWvoRaP",
        "colab_type": "text"
      },
      "cell_type": "markdown",
      "source": [
        "**Models - Decision Tree**\n",
        "\n",
        "Finally, use decision trees and plot accuracy over iterations.\n",
        "\n",
        "**Q6c (5 pts):** Report the final test / train accuracy"
      ]
    },
    {
      "metadata": {
        "id": "NzR_Rnyc3jgU",
        "colab_type": "code",
        "colab": {}
      },
      "cell_type": "code",
      "source": [
        ""
      ],
      "execution_count": 0,
      "outputs": []
    },
    {
      "metadata": {
        "id": "iUfHVZnWrNmG",
        "colab_type": "text"
      },
      "cell_type": "markdown",
      "source": [
        "**Model Evaluation**\n",
        "\n",
        "**Q6d (10 pts):** Now that you've used three different classical ML techniques for classifying the samples, which one performs the best? Based on your observations of the dataset, why do you think this one performs the best and the other ones perform poorly?"
      ]
    }
  ]
}